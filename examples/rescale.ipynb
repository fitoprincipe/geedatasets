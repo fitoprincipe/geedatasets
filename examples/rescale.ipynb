{
 "cells": [
  {
   "cell_type": "code",
   "execution_count": 1,
   "metadata": {},
   "outputs": [],
   "source": [
    "import sys\n",
    "sys.path.append('..')\n",
    "import geedatasets"
   ]
  },
  {
   "cell_type": "code",
   "execution_count": 2,
   "metadata": {},
   "outputs": [],
   "source": [
    "import ee\n",
    "ee.Initialize()"
   ]
  },
  {
   "cell_type": "code",
   "execution_count": 3,
   "metadata": {},
   "outputs": [],
   "source": [
    "import ipygee as ui"
   ]
  },
  {
   "cell_type": "code",
   "execution_count": 4,
   "metadata": {},
   "outputs": [
    {
     "data": {
      "application/vnd.jupyter.widget-view+json": {
       "model_id": "0fce063292434ca7b2a4780d694f5ec6",
       "version_major": 2,
       "version_minor": 0
      },
      "text/plain": [
       "Map(center=[0, 0], controls=(ZoomControl(options=['position', 'zoom_in_text', 'zoom_in_title', 'zoom_out_text'…"
      ]
     },
     "metadata": {},
     "output_type": "display_data"
    },
    {
     "data": {
      "application/vnd.jupyter.widget-view+json": {
       "model_id": "726aaf4caf49490eaa437598298f9291",
       "version_major": 2,
       "version_minor": 0
      },
      "text/plain": [
       "Tab(children=(CustomInspector(children=(SelectMultiple(options=OrderedDict(), value=()), Accordion(selected_in…"
      ]
     },
     "metadata": {},
     "output_type": "display_data"
    }
   ],
   "source": [
    "Map = ui.Map()\n",
    "Map.show()"
   ]
  },
  {
   "cell_type": "markdown",
   "metadata": {},
   "source": [
    "## Rescale Landsat 8 SR to Landsat 8 TOA"
   ]
  },
  {
   "cell_type": "code",
   "execution_count": 5,
   "metadata": {},
   "outputs": [],
   "source": [
    "l8sr = geedatasets.fromShortName('L8SR')\n",
    "l8toa = geedatasets.fromShortName('L8TOA')"
   ]
  },
  {
   "cell_type": "code",
   "execution_count": 6,
   "metadata": {},
   "outputs": [],
   "source": [
    "p = ee.Geometry.Point([-72, -43])\n",
    "Map.centerObject(p, 13)"
   ]
  },
  {
   "cell_type": "code",
   "execution_count": 11,
   "metadata": {},
   "outputs": [],
   "source": [
    "il8sr = l8sr.collection(p, ('2019-01-10', '2019-01-20')).first()\n",
    "il8toa = l8toa.collection(p, ('2019-01-10', '2019-01-20')).first()"
   ]
  },
  {
   "cell_type": "code",
   "execution_count": 17,
   "metadata": {},
   "outputs": [],
   "source": [
    "vis_sr = l8sr.visualization('NSR')\n",
    "vis_toa = l8toa.visualization('NSR')"
   ]
  },
  {
   "cell_type": "code",
   "execution_count": 14,
   "metadata": {},
   "outputs": [],
   "source": [
    "Map.addLayer(il8sr, vis_sr, 'Original L8 SR image')\n",
    "Map.addLayer(il8toa, vis_toa, 'Original L8 TOA image')"
   ]
  },
  {
   "cell_type": "code",
   "execution_count": 15,
   "metadata": {},
   "outputs": [],
   "source": [
    "# RESCALE\n",
    "il8sr_to_toa = l8sr.rescale(il8sr, l8toa)\n",
    "il8toa_to_sr = l8toa.rescale(il8toa, l8sr)"
   ]
  },
  {
   "cell_type": "code",
   "execution_count": 18,
   "metadata": {},
   "outputs": [],
   "source": [
    "Map.addLayer(il8sr_to_toa, dict(bands=vis_sr['bands'], min=vis_toa['min'], max=vis_toa['max']), 'L8 SR image rescaled to TOA')\n",
    "Map.addLayer(il8toa_to_sr, dict(bands=vis_toa['bands'], min=vis_sr['min'], max=vis_sr['max']), 'L8 TOA image rescaled to SR')"
   ]
  },
  {
   "cell_type": "code",
   "execution_count": 20,
   "metadata": {},
   "outputs": [
    {
     "name": "stdout",
     "output_type": "stream",
     "text": [
      "Original L8 SR {'B2': 2846, 'B3': 2448, 'B4': 2313}\n",
      "L8 SR rescaled to TOA {'B2': 0.28459998965263367, 'B3': 0.24480000138282776, 'B4': 0.2312999963760376}\n",
      "Original L8 TOA {'B2': 0.30524054169654846, 'B3': 0.2429025024175644, 'B4': 0.22954615950584412}\n",
      "L8 TOA rescaled to SR {'B2': 3052, 'B3': 2429, 'B4': 2295}\n"
     ]
    }
   ],
   "source": [
    "# VALUES\n",
    "def get_values(i):\n",
    "    i = i.select(['B2', 'B3', 'B4'])\n",
    "    values = i.reduceRegion(geometry=p, reducer=ee.Reducer.first(), scale=10)\n",
    "    return values.getInfo()\n",
    "\n",
    "print('Original L8 SR', get_values(il8sr))\n",
    "print('L8 SR rescaled to TOA', get_values(il8sr_to_toa))\n",
    "print('Original L8 TOA', get_values(il8toa))\n",
    "print('L8 TOA rescaled to SR', get_values(il8toa_to_sr))"
   ]
  },
  {
   "cell_type": "code",
   "execution_count": null,
   "metadata": {},
   "outputs": [],
   "source": []
  }
 ],
 "metadata": {
  "kernelspec": {
   "display_name": "Python 3",
   "language": "python",
   "name": "python3"
  },
  "language_info": {
   "codemirror_mode": {
    "name": "ipython",
    "version": 3
   },
   "file_extension": ".py",
   "mimetype": "text/x-python",
   "name": "python",
   "nbconvert_exporter": "python",
   "pygments_lexer": "ipython3",
   "version": "3.8.5"
  }
 },
 "nbformat": 4,
 "nbformat_minor": 4
}
