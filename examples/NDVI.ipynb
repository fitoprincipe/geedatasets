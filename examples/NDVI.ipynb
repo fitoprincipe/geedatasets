{
 "cells": [
  {
   "cell_type": "markdown",
   "metadata": {},
   "source": [
    "# NDVI vegetation index"
   ]
  },
  {
   "cell_type": "code",
   "execution_count": 1,
   "metadata": {},
   "outputs": [],
   "source": [
    "import sys\n",
    "sys.path.append('..')\n",
    "import ee\n",
    "ee.Initialize()\n",
    "import geedatasets as dset"
   ]
  },
  {
   "cell_type": "code",
   "execution_count": 2,
   "metadata": {},
   "outputs": [],
   "source": [
    "import ipygee as ui"
   ]
  },
  {
   "cell_type": "code",
   "execution_count": 3,
   "metadata": {},
   "outputs": [],
   "source": [
    "l8sr = dset.fromShortName('L8SR')"
   ]
  },
  {
   "cell_type": "code",
   "execution_count": 4,
   "metadata": {},
   "outputs": [
    {
     "name": "stdout",
     "output_type": "stream",
     "text": [
      "ID: LANDSAT/LC08/C01/T1_SR\n",
      "Short Name: L8SR\n",
      "Spacecraft: LANDSAT\n",
      "Number: 8\n",
      "Sensor: OLI\n",
      "Process: SR\n",
      "Start Date: 2013-03-18\n",
      "End Date: None\n",
      "Cloud Cover: CLOUD_COVER\n",
      "Tier: 1\n",
      "Bands: ['B1 (coastal_aerosol)', 'B2 (blue)', 'B3 (green)', 'B4 (red)', 'B5 (nir)', 'B6 (swir)', 'B10 (thermal)', 'B11 (thermal2)', 'sr_aerosol (sr_aerosol)', 'pixel_qa (pixel_qa)', 'radsat_qa (radsat_qa)']\n",
      "Masks: ['pixel_qa']\n",
      "visualizers: ['trueColor', 'falseColor', 'NSR']\n",
      "\n"
     ]
    }
   ],
   "source": [
    "print(l8sr)"
   ]
  },
  {
   "cell_type": "markdown",
   "metadata": {},
   "source": [
    "## List extra bands (veg indexes, etc)"
   ]
  },
  {
   "cell_type": "code",
   "execution_count": 5,
   "metadata": {},
   "outputs": [
    {
     "name": "stdout",
     "output_type": "stream",
     "text": [
      "NDVI ndvi\n",
      "NBR nbr\n"
     ]
    }
   ],
   "source": [
    "for band in l8sr.extra_bands:\n",
    "    print(band.name, band.alias)"
   ]
  },
  {
   "cell_type": "code",
   "execution_count": 6,
   "metadata": {},
   "outputs": [],
   "source": [
    "# Get Band\n",
    "ndvi = l8sr.getBandByName('NDVI')"
   ]
  },
  {
   "cell_type": "code",
   "execution_count": 7,
   "metadata": {},
   "outputs": [],
   "source": [
    "# Get EE Collection\n",
    "col = l8sr.collection()"
   ]
  },
  {
   "cell_type": "code",
   "execution_count": 8,
   "metadata": {},
   "outputs": [],
   "source": [
    "# add ndvi band\n",
    "colNDVI = col.map(lambda i: i.addBands(ndvi.apply(i)))"
   ]
  },
  {
   "cell_type": "code",
   "execution_count": 9,
   "metadata": {},
   "outputs": [
    {
     "name": "stdout",
     "output_type": "stream",
     "text": [
      "['B1', 'B2', 'B3', 'B4', 'B5', 'B6', 'B7', 'B10', 'B11', 'sr_aerosol', 'pixel_qa', 'radsat_qa', 'NDVI']\n"
     ]
    }
   ],
   "source": [
    "print(colNDVI.first().bandNames().getInfo())"
   ]
  },
  {
   "cell_type": "code",
   "execution_count": 10,
   "metadata": {},
   "outputs": [],
   "source": [
    "# add ndvi band using alias name\n",
    "colNDVI_alias = col.map(lambda i: i.addBands(ndvi.apply(i, alias=True)))"
   ]
  },
  {
   "cell_type": "code",
   "execution_count": 11,
   "metadata": {},
   "outputs": [
    {
     "name": "stdout",
     "output_type": "stream",
     "text": [
      "['B1', 'B2', 'B3', 'B4', 'B5', 'B6', 'B7', 'B10', 'B11', 'sr_aerosol', 'pixel_qa', 'radsat_qa', 'ndvi']\n"
     ]
    }
   ],
   "source": [
    "print(colNDVI_alias.first().bandNames().getInfo())"
   ]
  },
  {
   "cell_type": "code",
   "execution_count": null,
   "metadata": {},
   "outputs": [],
   "source": []
  }
 ],
 "metadata": {
  "kernelspec": {
   "display_name": "Python 3",
   "language": "python",
   "name": "python3"
  },
  "language_info": {
   "codemirror_mode": {
    "name": "ipython",
    "version": 3
   },
   "file_extension": ".py",
   "mimetype": "text/x-python",
   "name": "python",
   "nbconvert_exporter": "python",
   "pygments_lexer": "ipython3",
   "version": "3.7.6"
  }
 },
 "nbformat": 4,
 "nbformat_minor": 4
}
