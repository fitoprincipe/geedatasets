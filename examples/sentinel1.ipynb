{
 "cells": [
  {
   "cell_type": "code",
   "execution_count": 1,
   "metadata": {},
   "outputs": [],
   "source": [
    "import sys\n",
    "sys.path.append('..')\n",
    "import ee\n",
    "ee.Initialize()\n",
    "import geedatasets as dset"
   ]
  },
  {
   "cell_type": "code",
   "execution_count": 2,
   "metadata": {},
   "outputs": [],
   "source": [
    "import geetools"
   ]
  },
  {
   "cell_type": "code",
   "execution_count": 3,
   "metadata": {},
   "outputs": [],
   "source": [
    "import ipygee as ui"
   ]
  },
  {
   "cell_type": "code",
   "execution_count": 4,
   "metadata": {},
   "outputs": [],
   "source": [
    "s1 = dset.fromShortName('S1')"
   ]
  },
  {
   "cell_type": "code",
   "execution_count": 5,
   "metadata": {},
   "outputs": [
    {
     "name": "stdout",
     "output_type": "stream",
     "text": [
      "ID: COPERNICUS/S1_GRD\n",
      "Start Date: 2014-10-03\n",
      "End Date: None\n",
      "Bands: ['HH (HH)', 'HV (HV)', 'VH (VH)', 'VV (VV)', 'angle (angle)']\n",
      "Visualizers: None\n",
      "\n"
     ]
    }
   ],
   "source": [
    "print(s1)"
   ]
  },
  {
   "cell_type": "code",
   "execution_count": 6,
   "metadata": {},
   "outputs": [
    {
     "data": {
      "application/vnd.jupyter.widget-view+json": {
       "model_id": "21a11d0db2584b5c929ac0d99f42f9fa",
       "version_major": 2,
       "version_minor": 0
      },
      "text/plain": [
       "Map(center=[0, 0], controls=(ZoomControl(options=['position', 'zoom_in_text', 'zoom_in_title', 'zoom_out_text'…"
      ]
     },
     "metadata": {},
     "output_type": "display_data"
    },
    {
     "data": {
      "application/vnd.jupyter.widget-view+json": {
       "model_id": "4e5fb698dc45473cbde26f6b123da202",
       "version_major": 2,
       "version_minor": 0
      },
      "text/plain": [
       "Tab(children=(CustomInspector(children=(SelectMultiple(options=OrderedDict(), value=()), Accordion(selected_in…"
      ]
     },
     "metadata": {},
     "output_type": "display_data"
    }
   ],
   "source": [
    "Map = ui.Map()\n",
    "Map.show()"
   ]
  },
  {
   "cell_type": "code",
   "execution_count": 7,
   "metadata": {},
   "outputs": [],
   "source": [
    "p = ee.Geometry.Point([-72,-42])\n",
    "site = p.buffer(1000)"
   ]
  },
  {
   "cell_type": "code",
   "execution_count": 8,
   "metadata": {},
   "outputs": [],
   "source": [
    "Map.addLayer(ee.Feature(site), name='site')\n",
    "Map.centerObject(site)"
   ]
  },
  {
   "cell_type": "code",
   "execution_count": 9,
   "metadata": {},
   "outputs": [],
   "source": [
    "col = s1.collection().filterBounds(site).filterDate('2020-01-01', '2020-02-01')"
   ]
  },
  {
   "cell_type": "code",
   "execution_count": 10,
   "metadata": {},
   "outputs": [],
   "source": [
    "vv_vh = s1.filter_polarisation('VV-VH', col)"
   ]
  },
  {
   "cell_type": "code",
   "execution_count": 11,
   "metadata": {},
   "outputs": [],
   "source": [
    "# Now that you get an homogeneous collection you can create a composite\n",
    "vv_vh_median = vv_vh.median()\n",
    "vv_vh_median = vv_vh_median.addBands(vv_vh_median.select('VH').subtract(vv_vh_median.select('VV')).rename('diff'))\n",
    "params = geetools.visualization.stretch_percentile(vv_vh_median, site, ['VV', 'VH', 'diff'], scale=10)\n",
    "Map.addLayer(vv_vh_median, params, name='VV Median')"
   ]
  },
  {
   "cell_type": "code",
   "execution_count": 12,
   "metadata": {},
   "outputs": [],
   "source": [
    "# LEE Speckle Filter\n",
    "vv_vh_lee = vv_vh.map(lambda i: s1.lee_filter(i))\n",
    "vv_vh_median_lee = vv_vh_lee.median()\n",
    "vv_vh_median_lee = vv_vh_median_lee.addBands(vv_vh_median_lee.select('VH').subtract(vv_vh_median_lee.select('VV')).rename('diff'))\n",
    "params_lee = geetools.visualization.stretch_percentile(vv_vh_median_lee, site, ['VV', 'VH', 'diff'], scale=10)\n",
    "Map.addLayer(vv_vh_median_lee, params, name='VV-VH Median (Lee Filter)')"
   ]
  },
  {
   "cell_type": "code",
   "execution_count": 13,
   "metadata": {},
   "outputs": [],
   "source": [
    "# RADAR VEGETATION INDEX"
   ]
  },
  {
   "cell_type": "code",
   "execution_count": 14,
   "metadata": {},
   "outputs": [],
   "source": [
    "rvi = vv_vh_lee.map(lambda i: s1.RVI.apply(i))"
   ]
  },
  {
   "cell_type": "code",
   "execution_count": 15,
   "metadata": {},
   "outputs": [],
   "source": [
    "rvi_median = rvi.median()"
   ]
  },
  {
   "cell_type": "code",
   "execution_count": 17,
   "metadata": {},
   "outputs": [],
   "source": [
    "Map.addLayer(rvi_median, dict(min=0, max=1), 'median RVI')"
   ]
  },
  {
   "cell_type": "code",
   "execution_count": null,
   "metadata": {},
   "outputs": [],
   "source": []
  }
 ],
 "metadata": {
  "kernelspec": {
   "display_name": "Python 3",
   "language": "python",
   "name": "python3"
  },
  "language_info": {
   "codemirror_mode": {
    "name": "ipython",
    "version": 3
   },
   "file_extension": ".py",
   "mimetype": "text/x-python",
   "name": "python",
   "nbconvert_exporter": "python",
   "pygments_lexer": "ipython3",
   "version": "3.7.6"
  }
 },
 "nbformat": 4,
 "nbformat_minor": 4
}
