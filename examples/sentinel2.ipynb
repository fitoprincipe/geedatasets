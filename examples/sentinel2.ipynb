{
 "cells": [
  {
   "cell_type": "code",
   "execution_count": 1,
   "metadata": {},
   "outputs": [],
   "source": [
    "import sys\n",
    "sys.path.append('..')\n",
    "import geedatasets"
   ]
  },
  {
   "cell_type": "markdown",
   "metadata": {},
   "source": [
    "## Sentinel 2 TOA"
   ]
  },
  {
   "cell_type": "code",
   "execution_count": 2,
   "metadata": {},
   "outputs": [],
   "source": [
    "s2toa = geedatasets.fromShortName('S2TOA')"
   ]
  },
  {
   "cell_type": "code",
   "execution_count": 3,
   "metadata": {},
   "outputs": [
    {
     "name": "stdout",
     "output_type": "stream",
     "text": [
      "ID: COPERNICUS/S2\n",
      "short name: S2TOA\n",
      "SpaceCraft: Sentinel 2\n",
      "Process: TOA\n",
      "Start Date: 2015-06-23\n",
      "End Date: None\n",
      "Cloud Cover: CLOUD_COVERAGE_ASSESSMENT\n",
      "Bands: ['B1 (aerosol)', 'B2 (blue)', 'B3 (green)', 'B4 (red)', 'B5 (red_edge_1)', 'B6 (red_edge_2)', 'B7 (red_edge_3)', 'B8 (nir)', 'B8A (red_edge_4)', 'B9 (water_vapor)', 'B10 (cirrus)', 'B11 (swir)', 'B12 (swir2)', 'QA10 (qa10)', 'QA20 (qa20)', 'QA60 (qa60)']\n",
      "Masks: ['QA60', 'Hollstein']\n",
      "Visualizers: ['NSR', 'trueColor', 'falseColor']\n",
      "\n"
     ]
    }
   ],
   "source": [
    "print(s2toa)"
   ]
  },
  {
   "cell_type": "markdown",
   "metadata": {},
   "source": [
    "### Get the collection, an image and visualize"
   ]
  },
  {
   "cell_type": "code",
   "execution_count": 4,
   "metadata": {},
   "outputs": [],
   "source": [
    "import ee\n",
    "ee.Initialize()\n",
    "import ipygee as ui"
   ]
  },
  {
   "cell_type": "code",
   "execution_count": 5,
   "metadata": {},
   "outputs": [
    {
     "data": {
      "application/vnd.jupyter.widget-view+json": {
       "model_id": "70eab34cd5384186a8fb74341df3b6f1",
       "version_major": 2,
       "version_minor": 0
      },
      "text/plain": [
       "Map(center=[0, 0], controls=(ZoomControl(options=['position', 'zoom_in_text', 'zoom_in_title', 'zoom_out_text'…"
      ]
     },
     "metadata": {},
     "output_type": "display_data"
    },
    {
     "data": {
      "application/vnd.jupyter.widget-view+json": {
       "model_id": "ca2b901f164d41ca9b12e71b068baa2d",
       "version_major": 2,
       "version_minor": 0
      },
      "text/plain": [
       "Tab(children=(CustomInspector(children=(SelectMultiple(options=OrderedDict(), value=()), Accordion(selected_in…"
      ]
     },
     "metadata": {},
     "output_type": "display_data"
    }
   ],
   "source": [
    "Map = ui.Map()\n",
    "Map.show()"
   ]
  },
  {
   "cell_type": "code",
   "execution_count": 6,
   "metadata": {},
   "outputs": [],
   "source": [
    "point = ee.Geometry.Point([-72, -42])\n",
    "Map.centerObject(point, 12)"
   ]
  },
  {
   "cell_type": "code",
   "execution_count": 7,
   "metadata": {},
   "outputs": [],
   "source": [
    "start = '2019-02-01'\n",
    "end = '2019-03-01'"
   ]
  },
  {
   "cell_type": "code",
   "execution_count": 8,
   "metadata": {},
   "outputs": [],
   "source": [
    "collection = s2toa.collection().filterBounds(point)\n",
    "collection = collection.filterDate(start, end)"
   ]
  },
  {
   "cell_type": "code",
   "execution_count": 9,
   "metadata": {},
   "outputs": [],
   "source": [
    "image = collection.first()"
   ]
  },
  {
   "cell_type": "code",
   "execution_count": 10,
   "metadata": {},
   "outputs": [],
   "source": [
    "Map.addLayer(image, s2toa.visualization('trueColor'), 'S2 TOA image trueColor')"
   ]
  },
  {
   "cell_type": "markdown",
   "metadata": {},
   "source": [
    "## Hollstein mask"
   ]
  },
  {
   "cell_type": "code",
   "execution_count": 11,
   "metadata": {},
   "outputs": [],
   "source": [
    "mask = s2toa.getMask('Hollstein')\n",
    "masked = mask.apply(image)"
   ]
  },
  {
   "cell_type": "code",
   "execution_count": 12,
   "metadata": {},
   "outputs": [
    {
     "name": "stdout",
     "output_type": "stream",
     "text": [
      "'Hollstein' Mask\n",
      "options: ['cloud', 'snow', 'shadow', 'water', 'cirrus']\n",
      "default negatives: ('cloud', 'snow', 'shadow', 'water', 'cirrus')\n",
      "default positives: None\n",
      "\n"
     ]
    }
   ],
   "source": [
    "print(mask)"
   ]
  },
  {
   "cell_type": "code",
   "execution_count": 13,
   "metadata": {},
   "outputs": [],
   "source": [
    "Map.addLayer(masked, s2toa.visualization('falseColor'), 'S2 TOA image falseColor masked by Hollstein')"
   ]
  },
  {
   "cell_type": "code",
   "execution_count": 14,
   "metadata": {},
   "outputs": [],
   "source": [
    "# Applied in a map function\n",
    "filtered = collection.limit(3).map(lambda i: mask.apply(i))\n",
    "Map.addImageCollection(filtered, s2toa.visualization('falseColor'), 'S2 TOA {system_date} masked by Hollstein', datePattern='y-MM-dd')"
   ]
  },
  {
   "cell_type": "markdown",
   "metadata": {},
   "source": [
    "## Sentinel 2 SR"
   ]
  },
  {
   "cell_type": "code",
   "execution_count": 15,
   "metadata": {},
   "outputs": [],
   "source": [
    "s2sr = geedatasets.fromShortName('S2SR')"
   ]
  },
  {
   "cell_type": "code",
   "execution_count": 16,
   "metadata": {},
   "outputs": [
    {
     "name": "stdout",
     "output_type": "stream",
     "text": [
      "ID: COPERNICUS/S2_SR\n",
      "short name: S2SR\n",
      "SpaceCraft: Sentinel 2\n",
      "Process: SR\n",
      "Start Date: 2017-03-28\n",
      "End Date: None\n",
      "Cloud Cover: CLOUD_COVERAGE_ASSESSMENT\n",
      "Bands: ['B1 (aerosol)', 'B2 (blue)', 'B3 (green)', 'B4 (red)', 'B5 (red_edge_1)', 'B6 (red_edge_2)', 'B7 (red_edge_3)', 'B8 (nir)', 'B8A (red_edge_4)', 'B9 (water_vapor)', 'B11 (swir)', 'B12 (swir2)', 'AOT (aerosol_thickness)', 'WVP (water_vapor_pressure)', 'SCL (scene_classification_map)', 'TCI_R (true_color_red)', 'TCI_G (true_color_blue)', 'TCI_B (true_color_green)', 'MSK_CLDPRB (cloud_probability)', 'MSK_SNWPRB (snow_probability)', 'QA10 (qa10)', 'QA20 (qa20)', 'QA60 (qa60)']\n",
      "Masks: ['SCL', 'QA60']\n",
      "Visualizers: ['NSR', 'trueColor', 'falseColor', 'SCL']\n",
      "\n"
     ]
    }
   ],
   "source": [
    "print(s2sr)"
   ]
  },
  {
   "cell_type": "code",
   "execution_count": 17,
   "metadata": {},
   "outputs": [],
   "source": [
    "collectionSR = s2sr.collection().filterBounds(point)\n",
    "collectionSR = collectionSR.filterDate(start, end)"
   ]
  },
  {
   "cell_type": "code",
   "execution_count": 18,
   "metadata": {},
   "outputs": [],
   "source": [
    "imageSR = collectionSR.first()"
   ]
  },
  {
   "cell_type": "code",
   "execution_count": 19,
   "metadata": {},
   "outputs": [],
   "source": [
    "Map.addLayer(imageSR, s2sr.visualization('trueColor'), 'S2 SR image trueColor')"
   ]
  },
  {
   "cell_type": "markdown",
   "metadata": {},
   "source": [
    "### SCL Mask"
   ]
  },
  {
   "cell_type": "code",
   "execution_count": 20,
   "metadata": {},
   "outputs": [],
   "source": [
    "scl = s2sr.getMask('SCL')\n",
    "maskedSR = scl.apply(imageSR)"
   ]
  },
  {
   "cell_type": "code",
   "execution_count": 21,
   "metadata": {},
   "outputs": [
    {
     "name": "stdout",
     "output_type": "stream",
     "text": [
      "'SCL' Mask\n",
      "options: ['saturated', 'dark', 'shadow', 'vegetation', 'bare_soil', 'water', 'unclassified', 'clouds_mid_probability', 'clouds_high_probability', 'cirrus', 'snow']\n",
      "default negatives: ['saturated', 'dark', 'shadow', 'water', 'clouds_mid_probability', 'clouds_high_probability', 'cirrus', 'snow']\n",
      "default positives: ['vegetation', 'bare_soil', 'unclassified']\n",
      "\n"
     ]
    }
   ],
   "source": [
    "print(scl)"
   ]
  },
  {
   "cell_type": "code",
   "execution_count": 22,
   "metadata": {},
   "outputs": [],
   "source": [
    "Map.addLayer(maskedSR, s2sr.visualization('falseColor'), 'S2 SR masked by SCL falseColor')"
   ]
  },
  {
   "cell_type": "code",
   "execution_count": 23,
   "metadata": {},
   "outputs": [],
   "source": [
    "# Mask can also be applied in a map function"
   ]
  },
  {
   "cell_type": "code",
   "execution_count": 24,
   "metadata": {},
   "outputs": [],
   "source": [
    "filteredSR = collectionSR.limit(3).map(lambda i: scl.apply(i))"
   ]
  },
  {
   "cell_type": "code",
   "execution_count": 25,
   "metadata": {},
   "outputs": [],
   "source": [
    "Map.addImageCollection(filteredSR, s2sr.visualization('NSR'), 'S2 SR {system_date} masked by SCL', datePattern='y-MM-dd')"
   ]
  },
  {
   "cell_type": "markdown",
   "metadata": {},
   "source": [
    "## Extra bands: ndvi"
   ]
  },
  {
   "cell_type": "code",
   "execution_count": 26,
   "metadata": {},
   "outputs": [
    {
     "data": {
      "text/plain": [
       "['NDVI', 'NBR', 'NDRE']"
      ]
     },
     "execution_count": 26,
     "metadata": {},
     "output_type": "execute_result"
    }
   ],
   "source": [
    "s2sr.extraBandNames()"
   ]
  },
  {
   "cell_type": "code",
   "execution_count": 27,
   "metadata": {},
   "outputs": [],
   "source": [
    "ndvi = s2sr.getBandByName('NDVI')"
   ]
  },
  {
   "cell_type": "code",
   "execution_count": 28,
   "metadata": {},
   "outputs": [
    {
     "name": "stdout",
     "output_type": "stream",
     "text": [
      "Band NDVI(ndvi):\n",
      "resolution: 10\n",
      "precision: float\n",
      "units: None\n"
     ]
    }
   ],
   "source": [
    "print(ndvi)"
   ]
  },
  {
   "cell_type": "code",
   "execution_count": 29,
   "metadata": {},
   "outputs": [],
   "source": [
    "ndvi_i = s2sr.addBand(imageSR, ndvi)"
   ]
  },
  {
   "cell_type": "code",
   "execution_count": 30,
   "metadata": {},
   "outputs": [],
   "source": [
    "Map.addLayer(ndvi_i, name='S2SR NDVI')"
   ]
  },
  {
   "cell_type": "code",
   "execution_count": 31,
   "metadata": {},
   "outputs": [],
   "source": [
    "# include extra band in an ImageCollection"
   ]
  },
  {
   "cell_type": "code",
   "execution_count": 32,
   "metadata": {},
   "outputs": [],
   "source": [
    "ndvi_col = collectionSR.map(lambda i: s2sr.addBand(i, ndvi))"
   ]
  },
  {
   "cell_type": "code",
   "execution_count": 33,
   "metadata": {},
   "outputs": [],
   "source": [
    "Map.addImageCollection(ndvi_col.limit(3), namePattern='NDVI {system_date}')"
   ]
  },
  {
   "cell_type": "code",
   "execution_count": null,
   "metadata": {},
   "outputs": [],
   "source": []
  }
 ],
 "metadata": {
  "kernelspec": {
   "display_name": "Python 3",
   "language": "python",
   "name": "python3"
  },
  "language_info": {
   "codemirror_mode": {
    "name": "ipython",
    "version": 3
   },
   "file_extension": ".py",
   "mimetype": "text/x-python",
   "name": "python",
   "nbconvert_exporter": "python",
   "pygments_lexer": "ipython3",
   "version": "3.8.5"
  }
 },
 "nbformat": 4,
 "nbformat_minor": 4
}
